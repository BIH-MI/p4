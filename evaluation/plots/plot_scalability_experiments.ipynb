{
 "cells": [
  {
   "cell_type": "markdown",
   "source": [
    "Plotting the results of the scalability experiments. The subfolder \"images/\" should exist. Use the path of the resulting result.csv in Cell 2."
   ],
   "metadata": {
    "collapsed": false
   }
  },
  {
   "cell_type": "code",
   "execution_count": null,
   "outputs": [],
   "source": [
    "import pandas as pd\n",
    "import matplotlib.pyplot as plt\n",
    "import numpy as np\n",
    "import os"
   ],
   "metadata": {
    "collapsed": false
   }
  },
  {
   "cell_type": "code",
   "execution_count": null,
   "outputs": [],
   "source": [
    "pathToScalabilityResult = '<pathToScalabilityResult>'"
   ],
   "metadata": {
    "collapsed": false
   }
  },
  {
   "cell_type": "code",
   "execution_count": null,
   "outputs": [],
   "source": [
    "import pandas as pd\n",
    "df = pd.read_csv(pathToScalabilityResult, sep=\";\")\n",
    "df['Number'] = df['Dataset'].str.extract('(\\d+)').astype(int)"
   ],
   "metadata": {
    "collapsed": false
   }
  },
  {
   "cell_type": "code",
   "execution_count": null,
   "outputs": [],
   "source": [
    "df = df[df['Local'] == True]"
   ],
   "metadata": {
    "collapsed": false
   }
  },
  {
   "cell_type": "code",
   "execution_count": null,
   "outputs": [],
   "source": [
    "# Extract dataset size from 'Dataset' column\n",
    "df['Dataset size'] = df['Dataset'].str.extract('(\\d+)').astype(int)\n",
    "\n",
    "# Pivot the table to get Time values for each number of threads\n",
    "df_pivot = df.pivot(index='Dataset size', columns='Threads', values='Time')\n",
    "\n",
    "# Select the necessary columns\n",
    "df_transformed = df_pivot[[1, 2,  12, 64]].copy()  # Adjust this to include any other threads number you have\n",
    "df_transformed.reset_index(inplace=True)\n",
    "\n",
    "# Rename columns\n",
    "df_transformed.columns = ['Dataset size', '1', '2', '12', '64']"
   ],
   "metadata": {
    "collapsed": false
   }
  },
  {
   "cell_type": "code",
   "execution_count": null,
   "outputs": [],
   "source": [
    "# Extract dataset size from 'Dataset' column\n",
    "df['Dataset size'] = df['Dataset'].str.extract('(\\d+)').astype(int)\n",
    "\n",
    "# Pivot the table to get Time values for each number of threads\n",
    "df_pivot = df.pivot(index='Dataset size', columns='Threads', values='Granularity')\n",
    "\n",
    "# Select the necessary columns\n",
    "df_transformed_granularity = df_pivot[[1, 2, 12, 64]].copy()  # Adjust this to include any other threads number you have\n",
    "df_transformed_granularity.reset_index(inplace=True)\n",
    "\n",
    "# Rename columns\n",
    "df_transformed_granularity.columns = ['Dataset size', '1', '2', '12', '64']"
   ],
   "metadata": {
    "collapsed": false
   }
  },
  {
   "cell_type": "code",
   "execution_count": null,
   "outputs": [],
   "source": [
    "import matplotlib.pyplot as plt\n",
    "plt.rcParams.update({    'font.size': 15,\n",
    "                         'axes.titlesize': 15  # Ensure the title size matches other text\n",
    "                         })\n",
    "x_ticks = [5000000, 10000000, 15000000, 20000000, 25000000, 35000000, 45000000, 55000000, 65000000, 75000000, 85000000]\n",
    "\n",
    "granularity_df = df_transformed_granularity\n",
    "time_df = df_transformed\n",
    "\n",
    "fig, ax1 = plt.subplots(figsize=(10, 6))\n",
    "fig.patch.set_facecolor('white')\n",
    "ax1.set_facecolor('white')\n",
    "\n",
    "colors = ['b', 'g', 'r', 'cyan']\n",
    "threads = ['1', '2', '12', '64']\n",
    "\n",
    "# Plot granularity on primary y-axis\n",
    "for i, thread in enumerate(threads):\n",
    "    ax1.plot(granularity_df['Dataset size'], granularity_df[thread], '-o', label=f'Utility {thread}', color=colors[i])\n",
    "\n",
    "ax1.set_ylabel('Utility')\n",
    "ax1.set_ylim([0.7, 1])\n",
    "ax1.tick_params('y')\n",
    "ax1.set_xlabel('Dataset Size')\n",
    "ax1.set_xticks(x_ticks)\n",
    "ax1.set_yscale('linear')\n",
    "\n",
    "# Explicitly set x-axis tick marks to be visible and inside\n",
    "ax1.tick_params(axis='x', which='both', direction='out', length=6, bottom=True)\n",
    "x_tick_labels = [x // 1000000 for x in x_ticks]\n",
    "\n",
    "ax1.set_xticklabels(x_tick_labels )\n",
    "\n",
    "ax1.set_xlabel('Dataset size (in millions of records)')\n",
    "\n",
    "ax1.margins(x=0) #remove space between graph and y-axis\n",
    "\n",
    "\n",
    "ax1.grid(None)\n",
    "# Display legend and show plot\n",
    "handles, labels = ax1.get_legend_handles_labels()\n",
    "from matplotlib.lines import Line2D\n",
    "utility_handle = Line2D([], [], color='grey', marker='o', linestyle='-', label='Utility')\n",
    "time_handle = Line2D([], [], color='grey', marker='o', linestyle='--', label='Utility')\n",
    "invisible_handle = Line2D([0], [0], alpha=0, color='none', label='Invisible Item')\n",
    "\n",
    "fig.legend(handles, ['1 Thread', '2 Threads', '12 Threads', '64 Threads'], loc='upper center', bbox_to_anchor=(0.5, 0.01), fancybox=False, shadow=False, ncol=4, facecolor='white', edgecolor='black')\n",
    "print(handles)\n",
    "ax1.spines['bottom'].set_color('black')\n",
    "ax1.spines['top'].set_color('black')\n",
    "ax1.spines['right'].set_color('black')\n",
    "ax1.spines['left'].set_color('black')\n",
    "plt.title(\"Scalability experiment\")\n",
    "fig.tight_layout()\n",
    "if os.path.isfile(\"images/scalability.png\"):\n",
    "    os.remove(\"images/scalability.png\")   # Opt.: os.system(\"rm \"+strFile)\n",
    "fig.savefig(\"images/scalability.png\", format='png', bbox_inches='tight', dpi=300)\n",
    "plt.show()\n",
    "\n"
   ],
   "metadata": {
    "collapsed": false
   }
  },
  {
   "cell_type": "code",
   "execution_count": null,
   "outputs": [],
   "source": [
    "import pandas as pd\n",
    "import matplotlib.pyplot as plt\n",
    "plt.rcParams.update({    'font.size': 15,\n",
    "                         'axes.titlesize': 15  # Ensure the title size matches other text\n",
    "                         })\n",
    "x_ticks = [5000000, 10000000, 15000000, 20000000, 25000000, 35000000, 45000000, 55000000, 65000000, 75000000, 85000000]\n",
    "\n",
    "granularity_df = df_transformed_granularity\n",
    "time_df = df_transformed\n",
    "\n",
    "fig, ax1 = plt.subplots(figsize=(10, 6))\n",
    "fig.patch.set_facecolor('white')\n",
    "ax1.set_facecolor('white')\n",
    "\n",
    "colors = ['b', 'g', 'r', 'cyan']\n",
    "threads = ['1', '2', '12', '64']\n",
    "\n",
    "# Plot granularity on primary y-axis\n",
    "for i, thread in enumerate(threads):\n",
    "    ax1.plot(time_df['Dataset size'], time_df[thread]/1000, '--o', label=f'Time {thread}', color=colors[i])\n",
    "\n",
    "ax1.set_ylabel('Utility')\n",
    "ax1.set_ylim(bottom=0)\n",
    "ax1.tick_params('y')\n",
    "ax1.set_xlabel('Dataset Size')\n",
    "ax1.set_xticks(x_ticks)\n",
    "ax1.set_yscale('linear')\n",
    "\n",
    "# Plot time on secondary y-axis\n",
    "ax1.set_yscale('linear')\n",
    "\n",
    "# Explicitly set x-axis tick marks to be visible and inside\n",
    "x_tick_labels = [x // 1000000 for x in x_ticks]\n",
    "\n",
    "print(x_tick_labels)\n",
    "ax1.set_xticklabels(x_tick_labels)\n",
    "\n",
    "\n",
    "ax1.set_ylabel('Time [s]')\n",
    "ax1.set_xlabel('Dataset size (in millions of records)')\n",
    "\n",
    "ax1.margins(x=0.005) #remove space between graph and y-axis\n",
    "\n",
    "ax1.set_ylim(bottom=0) #remove space between graph and y-axis\n",
    "\n",
    "ax1.grid(None)\n",
    "# Display legend and show plot\n",
    "handles, labels = ax1.get_legend_handles_labels()\n",
    "from matplotlib.lines import Line2D\n",
    "utility_handle = Line2D([], [], color='grey', marker='o', linestyle='-', label='Utility')\n",
    "time_handle = Line2D([], [], color='grey', marker='o', linestyle='--', label='Utility')\n",
    "invisible_handle = Line2D([0], [0], alpha=0, color='none', label='Invisible Item')\n",
    "\n",
    "\n",
    "fig.legend(handles, ['1 Thread', '2 Threads', '12 Threads', '64 Threads'], loc='upper center', bbox_to_anchor=(0.5, 0.01), fancybox=False, shadow=False, ncol=4, facecolor='white', edgecolor='black')\n",
    "print(handles)\n",
    "ax1.spines['bottom'].set_color('black')\n",
    "ax1.spines['top'].set_color('black')\n",
    "ax1.spines['right'].set_color('black')\n",
    "ax1.spines['left'].set_color('black')\n",
    "plt.title(\"Scalability experiment\")\n",
    "fig.tight_layout()\n",
    "if os.path.isfile(\"images/scalability-time.png\"):\n",
    "    os.remove(\"images/scalability-time.png\")   # Opt.: os.system(\"rm \"+strFile)\n",
    "fig.savefig(\"images/scalability-time.png\", format='png', bbox_inches='tight', dpi=300)\n",
    "plt.show()\n",
    "\n"
   ],
   "metadata": {
    "collapsed": false
   }
  }
 ],
 "metadata": {
  "kernelspec": {
   "display_name": "Python 3",
   "language": "python",
   "name": "python3"
  },
  "language_info": {
   "codemirror_mode": {
    "name": "ipython",
    "version": 2
   },
   "file_extension": ".py",
   "mimetype": "text/x-python",
   "name": "python",
   "nbconvert_exporter": "python",
   "pygments_lexer": "ipython2",
   "version": "2.7.6"
  }
 },
 "nbformat": 4,
 "nbformat_minor": 0
}
