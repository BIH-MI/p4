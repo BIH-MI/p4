{
 "cells": [
  {
   "cell_type": "markdown",
   "source": [
    "Plotting the results of the scalability experiments."
   ],
   "metadata": {
    "collapsed": false
   }
  },
  {
   "cell_type": "code",
   "execution_count": null,
   "outputs": [],
   "source": [
    "import pandas as pd\n",
    "import matplotlib.pyplot as plt\n",
    "import numpy as np"
   ],
   "metadata": {
    "collapsed": false
   }
  },
  {
   "cell_type": "code",
   "execution_count": null,
   "outputs": [],
   "source": [
    "\n",
    "# All groups of plots I want to plot:\n",
    "configs_k_anonymity = ['5000000', '7500000', '10000000', '12500000', '15000000', '17500000', '20000000', '22500000', '25000000', '35000000', '45000000', '55000000', '65000000', '75000000', '85000000']"
   ],
   "metadata": {
    "collapsed": false
   }
  },
  {
   "cell_type": "code",
   "execution_count": null,
   "outputs": [],
   "source": [
    "def is_rightmost(subplot_code):\n",
    "    # Extract the number of columns from the subplot code\n",
    "    num_cols = (subplot_code // 10) % 10\n",
    "\n",
    "    # Extract the subplot index\n",
    "    index = subplot_code % 100\n",
    "\n",
    "    return index % num_cols == 0\n",
    "\n",
    "def is_leftmost(subplot_code):\n",
    "    # Extract the number of columns from the subplot code\n",
    "    num_cols = (subplot_code // 10) % 10\n",
    "\n",
    "    # Extract the subplot index\n",
    "    index = subplot_code % 100\n",
    "\n",
    "    return index % num_cols == 1"
   ],
   "metadata": {
    "collapsed": false
   }
  },
  {
   "cell_type": "code",
   "execution_count": null,
   "outputs": [],
   "source": [
    "import matplotlib.pyplot as plt\n",
    "import matplotlib.colors as mcolors\n",
    "\n",
    "# Get the tab10 colormap\n",
    "tab10 = plt.cm.get_cmap('tab10', 10)\n",
    "\n",
    "# Extract the colors from the colormap\n",
    "colors = [tab10(i) for i in range(tab10.N)]\n",
    "\n",
    "# Convert the RGBA colors to HEX format\n",
    "hex_colors = [mcolors.rgb2hex(color[:3]) for color in colors]\n",
    "\n",
    "print(hex_colors)"
   ],
   "metadata": {
    "collapsed": false
   }
  },
  {
   "cell_type": "code",
   "execution_count": null,
   "outputs": [],
   "source": [
    "import seaborn as sns\n",
    "import os\n",
    "\n",
    "color_map = ['plum','skyblue', 'red', 'green', 'royalblue', 'cyan', 'orange']\n",
    "\n",
    "print(hex_colors)\n",
    "color_map = ['tab:blue', 'tab:green', 'tab:pink', 'tab:cyan']\n",
    "\n",
    "\n",
    "\n",
    "def plot_results(n, m, fig_size_x, fig_size_y, steps, filename, local):\n",
    "    plt.rcParams.update({    'font.size': 15,\n",
    "                             'axes.titlesize': 15  # Ensure the title size matches other text\n",
    "                             })\n",
    "    fig, axes = plt.subplots(n, m, figsize=(fig_size_x, fig_size_y))\n",
    "    max_memory = 0\n",
    "    time_max = 0;\n",
    "    for step in steps:\n",
    "        #memory = df_mem.loc[df_mem.Config == config]\n",
    "        #memory = memory.loc[df_mem.Local == local][\"Memory\"]/1000000.0\n",
    "        time = df.loc[df.Number == step]\n",
    "        time = time.loc[df.Local == local][\"Time\"]/1000.0\n",
    "        timePostproces = df.loc[df.Number == step]\n",
    "        timePostproces = timePostproces.loc[df.Local == local][\"TimePostprocess\"]/1000.0\n",
    "        timeQuality = df.loc[df.Config == step]\n",
    "        timeQuality = timeQuality.loc[df.Local == local][\"TimeQuality\"]/1000.0\n",
    "        time_curr = time.max() + timePostproces.max() + timeQuality.max()\n",
    "        if time_curr > time_max:\n",
    "            time_max = time_curr\n",
    "        #if memory.max() > max_memory:\n",
    "        #    max_memory = memory.max()\n",
    "    i = 0\n",
    "    for ax1 in axes.ravel():\n",
    "        config = steps[i]\n",
    "        threads = df.loc[df.Number == config]\n",
    "        threads = threads.loc[df.Local == local][\"Threads\"]\n",
    "        #memory = df_mem.loc[df_mem.Config == config]\n",
    "        #memory = memory.loc[df_mem.Local == local][\"Memory\"]/1000000.0\n",
    "        timePrepare = df.loc[df.Number == config]\n",
    "        timePrepare = timePrepare.loc[df.Local == local][\"TimePrepare\"]/1000.0\n",
    "        timeAnonymize = df.loc[df.Number == config]\n",
    "        timeAnonymize = timeAnonymize.loc[df.Local == local][\"TimeAnonymize\"]/1000.0\n",
    "        timeGlobalTransform = df.loc[df.Number == config]\n",
    "        timeGlobalTransform = timeGlobalTransform.loc[df.Local == local][\"TimeGlobalTransform\"]/1000.0\n",
    "        timePartitionByClass = df.loc[df.Number == config]\n",
    "        timePartitionByClass = timePartitionByClass.loc[df.Local == local][\"TimePartitionByClass\"]/1000.0\n",
    "        timeSuppress = df.loc[df.Number == config]\n",
    "        timeSuppress = timeSuppress.loc[df.Local == local][\"TimeSuppress\"]/1000.0\n",
    "        timePostproces = df.loc[df.Number == config]\n",
    "        timePostproces = timePostproces.loc[df.Local == local][\"TimePostprocess\"]/1000.0\n",
    "        timeQuality = df.loc[df.Number == config]\n",
    "        timeQuality = timeQuality.loc[df.Local == local][\"TimeQuality\"]/1000.0\n",
    "        granularity = df.loc[df.Number == config]\n",
    "        granularity = granularity.loc[df.Local == local][\"Granularity\"]\n",
    "        timeAll = timePrepare + timeAnonymize + timeGlobalTransform + timePartitionByClass + timeSuppress + timeQuality + timePostproces\n",
    "        print(timeAll)\n",
    "        optimal_time = timeAll.iloc[0]\n",
    "        time_saved_percent = ((optimal_time - timeAll) / optimal_time) * 100\n",
    "        optimal_utility = granularity.iloc[0]\n",
    "        percent_difference_utility = ((optimal_utility - granularity) / optimal_utility) * 100\n",
    "        #optimal_memory = memory.iloc[0]\n",
    "        #percent_difference_memory = (memory / optimal_memory) * 100\n",
    "        df_combined = pd.DataFrame({\n",
    "            'Threads': threads,\n",
    "            'Time': timeAll,\n",
    "            'Percent Time Saved': time_saved_percent,\n",
    "            'Granularity': granularity,\n",
    "            'Percent Difference utility:': percent_difference_utility,\n",
    "        #    'Memory': memory,\n",
    "        #    'Percent Difference Memory': percent_difference_memory\n",
    "        })\n",
    "        df_combined.to_csv(filename[:-4]+config+\".csv\", index=False, sep=';')\n",
    "        print(df_combined)\n",
    "        # Find the index of the max percent difference\n",
    "        max_diff_index = percent_difference_utility.idxmax()\n",
    "        # Extract corresponding values\n",
    "        max_percent_diff_value = percent_difference_utility[max_diff_index]\n",
    "        corresponding_granularity = granularity[max_diff_index]\n",
    "        corresponding_time = timeAll[max_diff_index]\n",
    "        corresponding_time_saved_percent = time_saved_percent[max_diff_index]\n",
    "        corresponding_threads = threads[max_diff_index]\n",
    "        print(f\"Maximum Percent Difference: {max_percent_diff_value}%\")\n",
    "        print(f\"Corresponding Utility: {corresponding_granularity}\")\n",
    "        print(f\"Corresponding Time: {corresponding_time}\")\n",
    "        print(f\"Corresponding Time saved percent: {corresponding_time_saved_percent}\")\n",
    "        print(f\"Corresponding Threads: {corresponding_threads}\")\n",
    "        ax1.set_facecolor('w')\n",
    "        ax2 = ax1.twinx()\n",
    "        ax3 = ax1.twinx()\n",
    "        ax2.set_ylim(0, 100)\n",
    "        ax1.set_ylim(0, time_max)\n",
    "        ax1.stackplot(threads, timePrepare + timeAnonymize, timeGlobalTransform, timePartitionByClass + timeSuppress, timeQuality + timePostproces, labels=[\"(1) Partitioning + Anonymization\", \"(2) Harmonization\", \"(3) Compliance checking\", \"(4) Finalization\",], colors = color_map, edgecolor = 'black', linewidths = 0)\n",
    "        ax1.margins(x=0) #remove space between graph and y-axis\n",
    "        ax1.set_xticks([1, 10, 20, 30, 40, 50, 60])\n",
    "        ax1.set_ylabel(\"Time [s]\")\n",
    "        ax1.set_xlabel(\"Threads\")\n",
    "        ax1.grid(None)\n",
    "        ax2.grid(None)\n",
    "        ax3.grid(None)\n",
    "        ax2.plot(threads, granularity*100.0, label=\"Utility [%]\", color=\"k\", marker=\".\", markersize=0.3)\n",
    "        #ax3.plot(threads, memory, label=\"Memory [MB]\", color=\"coral\", marker=\".\", markersize=0.3)\n",
    "        ax2.set_ylabel(\"Utility [%]\")\n",
    "        ax3.spines['right'].set_position(('axes', 1.25))\n",
    "        ax3.set_ylabel(\"Memory [MB]\")\n",
    "        #print(memory.max())\n",
    "        print(granularity.max())\n",
    "        ax3.set_ylim(0, max_memory * 1.1)\n",
    "        ax3.spines['right'].set_color('coral')\n",
    "        ax3.tick_params(axis='y', colors='coral')\n",
    "        ax3.yaxis.label.set_color('coral')\n",
    "        if not is_rightmost(ax1, axes): # checks not rightmost\n",
    "            ax2.set_ylabel(None)\n",
    "            ax2.yaxis.set_ticks([])\n",
    "            #ax2.spines[['right']].set_visible(False)\n",
    "            ax3.set_ylabel(None)\n",
    "            ax3.yaxis.set_ticks([])\n",
    "            ax3.spines[['right']].set_visible(False)\n",
    "        if not is_leftmost(ax1, axes): # checks not leftmost\n",
    "            ax1.set_ylabel(None)\n",
    "            ax1.yaxis.set_ticks([])\n",
    "            ax1.spines[['right']].set_visible(False)\n",
    "        handles, labels = ax1.get_legend_handles_labels()\n",
    "        handles2, labels2 = ax2.get_legend_handles_labels()\n",
    "        handles3, labels3 = ax3.get_legend_handles_labels()\n",
    "        if local:\n",
    "            ax1.set_title(config + \" (local)\")\n",
    "        else:\n",
    "            ax1.set_title(config)\n",
    "        ax3.spines['bottom'].set_color('black')\n",
    "        ax3.spines['top'].set_color('black')\n",
    "        ax2.spines['right'].set_color('black')\n",
    "        ax3.spines['left'].set_color('black')\n",
    "        i = i + 1\n",
    "        fig.legend(handles, labels, loc='upper center', bbox_to_anchor=(0.5, 0.01), fancybox=False, shadow=False, ncol=2, facecolor='white', edgecolor='black')\n",
    "        #fig.legend(handles2+handles3, labels2+labels3, loc='upper center', bbox_to_anchor=(0.5, -0.01), fancybox=False, shadow=False, ncol=2, facecolor='white', edgecolor='black')\n",
    "    fig.tight_layout()\n",
    "    if os.path.isfile(filename):\n",
    "        os.remove(filename)   # Opt.: os.system(\"rm \"+strFile)\n",
    "    fig.savefig(filename, format='png', bbox_inches='tight', dpi=300)\n",
    "    #plt.tight_layout()\n",
    "    #plt.savefig(filename, format='png')\n",
    "    plt.show()\n"
   ],
   "metadata": {
    "collapsed": false
   }
  },
  {
   "cell_type": "code",
   "execution_count": null,
   "outputs": [],
   "source": [
    "\n",
    "# All groups of plots I want to plot:\n",
    "steps = [5000000, 7500000, 10000000, 12500000, 15000000, 17500000, 20000000, 22500000, 25000000, 35000000, 45000000, 55000000, 65000000, 75000000, 85000000]"
   ],
   "metadata": {
    "collapsed": false
   }
  },
  {
   "cell_type": "code",
   "execution_count": null,
   "outputs": [],
   "source": [
    "import pandas as pd\n",
    "df = pd.read_csv('C:/Users/halilovm/Desktop/ARX_DISTRIBUTED_RESULTS/results/result_scalability_04_12.csv', sep=\";\")\n",
    "df['Number'] = df['Dataset'].str.extract('(\\d+)').astype(int)\n",
    "df\n"
   ],
   "metadata": {
    "collapsed": false
   }
  },
  {
   "cell_type": "code",
   "execution_count": null,
   "outputs": [],
   "source": [
    "df['Local'].unique()"
   ],
   "metadata": {
    "collapsed": false
   }
  },
  {
   "cell_type": "code",
   "execution_count": null,
   "outputs": [],
   "source": [
    "df = df[df['Local'] == True]\n",
    "df"
   ],
   "metadata": {
    "collapsed": false
   }
  },
  {
   "cell_type": "code",
   "execution_count": null,
   "outputs": [],
   "source": [
    "# Extract dataset size from 'Dataset' column\n",
    "df['Dataset size'] = df['Dataset'].str.extract('(\\d+)').astype(int)\n",
    "\n",
    "# Pivot the table to get Time values for each number of threads\n",
    "df_pivot = df.pivot(index='Dataset size', columns='Threads', values='Time')\n",
    "\n",
    "# Select the necessary columns\n",
    "df_transformed = df_pivot[[1, 2,  12, 64]].copy()  # Adjust this to include any other threads number you have\n",
    "df_transformed.reset_index(inplace=True)\n",
    "\n",
    "# Rename columns\n",
    "df_transformed.columns = ['Dataset size', '1', '2', '12', '64']\n",
    "\n",
    "print(df_transformed)\n"
   ],
   "metadata": {
    "collapsed": false
   }
  },
  {
   "cell_type": "code",
   "execution_count": null,
   "outputs": [],
   "source": [
    "# Extract dataset size from 'Dataset' column\n",
    "df['Dataset size'] = df['Dataset'].str.extract('(\\d+)').astype(int)\n",
    "\n",
    "# Pivot the table to get Time values for each number of threads\n",
    "df_pivot = df.pivot(index='Dataset size', columns='Threads', values='Granularity')\n",
    "\n",
    "# Select the necessary columns\n",
    "df_transformed_granularity = df_pivot[[1, 2, 12, 64]].copy()  # Adjust this to include any other threads number you have\n",
    "df_transformed_granularity.reset_index(inplace=True)\n",
    "\n",
    "# Rename columns\n",
    "df_transformed_granularity.columns = ['Dataset size', '1', '2', '12', '64']\n",
    "\n",
    "print(df_transformed_granularity)\n"
   ],
   "metadata": {
    "collapsed": false
   }
  },
  {
   "cell_type": "code",
   "execution_count": null,
   "outputs": [],
   "source": [
    "import matplotlib.pyplot as plt\n",
    "plt.rcParams.update({    'font.size': 15,\n",
    "                         'axes.titlesize': 15  # Ensure the title size matches other text\n",
    "                         })\n",
    "x_ticks = [5000000, 10000000, 15000000, 20000000, 25000000, 35000000, 45000000, 55000000, 65000000, 75000000, 85000000]\n",
    "\n",
    "granularity_df = df_transformed_granularity\n",
    "time_df = df_transformed\n",
    "\n",
    "fig, ax1 = plt.subplots(figsize=(10, 6))\n",
    "fig.patch.set_facecolor('white')\n",
    "ax1.set_facecolor('white')\n",
    "\n",
    "colors = ['b', 'g', 'r', 'cyan']\n",
    "threads = ['1', '2', '12', '64']\n",
    "\n",
    "# Plot granularity on primary y-axis\n",
    "for i, thread in enumerate(threads):\n",
    "    ax1.plot(granularity_df['Dataset size'], granularity_df[thread], '-o', label=f'Utility {thread}', color=colors[i])\n",
    "\n",
    "ax1.set_ylabel('Utility')\n",
    "ax1.set_ylim([0.7, 1])\n",
    "ax1.tick_params('y')\n",
    "ax1.set_xlabel('Dataset Size')\n",
    "ax1.set_xticks(x_ticks)\n",
    "ax1.set_yscale('linear')\n",
    "\n",
    "# Explicitly set x-axis tick marks to be visible and inside\n",
    "ax1.tick_params(axis='x', which='both', direction='out', length=6, bottom=True)\n",
    "x_tick_labels = [x // 1000000 for x in x_ticks]\n",
    "\n",
    "ax1.set_xticklabels(x_tick_labels )\n",
    "\n",
    "ax1.set_xlabel('Dataset size (in millions of records)')\n",
    "\n",
    "ax1.margins(x=0) #remove space between graph and y-axis\n",
    "\n",
    "\n",
    "ax1.grid(None)\n",
    "# Display legend and show plot\n",
    "handles, labels = ax1.get_legend_handles_labels()\n",
    "from matplotlib.lines import Line2D\n",
    "utility_handle = Line2D([], [], color='grey', marker='o', linestyle='-', label='Utility')\n",
    "time_handle = Line2D([], [], color='grey', marker='o', linestyle='--', label='Utility')\n",
    "invisible_handle = Line2D([0], [0], alpha=0, color='none', label='Invisible Item')\n",
    "\n",
    "fig.legend(handles, ['1 Thread', '2 Threads', '12 Threads', '64 Threads'], loc='upper center', bbox_to_anchor=(0.5, 0.01), fancybox=False, shadow=False, ncol=4, facecolor='white', edgecolor='black')\n",
    "print(handles)\n",
    "ax1.spines['bottom'].set_color('black')\n",
    "ax1.spines['top'].set_color('black')\n",
    "ax1.spines['right'].set_color('black')\n",
    "ax1.spines['left'].set_color('black')\n",
    "plt.title(\"Scalability experiment\")\n",
    "fig.tight_layout()\n",
    "if os.path.isfile(\"images/scalability.png\"):\n",
    "    os.remove(\"images/scalability.png\")   # Opt.: os.system(\"rm \"+strFile)\n",
    "fig.savefig(\"images/scalability.png\", format='png', bbox_inches='tight', dpi=300)\n",
    "plt.show()\n",
    "\n"
   ],
   "metadata": {
    "collapsed": false
   }
  },
  {
   "cell_type": "code",
   "execution_count": null,
   "outputs": [],
   "source": [
    "import pandas as pd\n",
    "import matplotlib.pyplot as plt\n",
    "plt.rcParams.update({    'font.size': 15,\n",
    "                         'axes.titlesize': 15  # Ensure the title size matches other text\n",
    "                         })\n",
    "x_ticks = [5000000, 10000000, 15000000, 20000000, 25000000, 35000000, 45000000, 55000000, 65000000, 75000000, 85000000]\n",
    "\n",
    "granularity_df = df_transformed_granularity\n",
    "time_df = df_transformed\n",
    "\n",
    "fig, ax1 = plt.subplots(figsize=(10, 6))\n",
    "fig.patch.set_facecolor('white')\n",
    "ax1.set_facecolor('white')\n",
    "\n",
    "colors = ['b', 'g', 'r', 'cyan']\n",
    "threads = ['1', '2', '12', '64']\n",
    "\n",
    "# Plot granularity on primary y-axis\n",
    "for i, thread in enumerate(threads):\n",
    "    ax1.plot(time_df['Dataset size'], time_df[thread]/1000, '--o', label=f'Time {thread}', color=colors[i])\n",
    "\n",
    "ax1.set_ylabel('Utility')\n",
    "ax1.set_ylim(bottom=0)\n",
    "ax1.tick_params('y')\n",
    "ax1.set_xlabel('Dataset Size')\n",
    "ax1.set_xticks(x_ticks)\n",
    "ax1.set_yscale('linear')\n",
    "\n",
    "# Plot time on secondary y-axis\n",
    "ax1.set_yscale('linear')\n",
    "\n",
    "# Explicitly set x-axis tick marks to be visible and inside\n",
    "x_tick_labels = [x // 1000000 for x in x_ticks]\n",
    "\n",
    "print(x_tick_labels)\n",
    "ax1.set_xticklabels(x_tick_labels)\n",
    "\n",
    "\n",
    "ax1.set_ylabel('Time [s]')\n",
    "ax1.set_xlabel('Dataset size (in millions of records)')\n",
    "\n",
    "ax1.margins(x=0.005) #remove space between graph and y-axis\n",
    "\n",
    "ax1.set_ylim(bottom=0) #remove space between graph and y-axis\n",
    "\n",
    "ax1.grid(None)\n",
    "# Display legend and show plot\n",
    "handles, labels = ax1.get_legend_handles_labels()\n",
    "from matplotlib.lines import Line2D\n",
    "utility_handle = Line2D([], [], color='grey', marker='o', linestyle='-', label='Utility')\n",
    "time_handle = Line2D([], [], color='grey', marker='o', linestyle='--', label='Utility')\n",
    "invisible_handle = Line2D([0], [0], alpha=0, color='none', label='Invisible Item')\n",
    "\n",
    "\n",
    "fig.legend(handles, ['1 Thread', '2 Threads', '12 Threads', '64 Threads'], loc='upper center', bbox_to_anchor=(0.5, 0.01), fancybox=False, shadow=False, ncol=4, facecolor='white', edgecolor='black')\n",
    "print(handles)\n",
    "ax1.spines['bottom'].set_color('black')\n",
    "ax1.spines['top'].set_color('black')\n",
    "ax1.spines['right'].set_color('black')\n",
    "ax1.spines['left'].set_color('black')\n",
    "plt.title(\"Scalability experiment\")\n",
    "fig.tight_layout()\n",
    "if os.path.isfile(\"images/scalability-time.png\"):\n",
    "    os.remove(\"images/scalability-time.png\")   # Opt.: os.system(\"rm \"+strFile)\n",
    "fig.savefig(\"images/scalability-time.png\", format='png', bbox_inches='tight', dpi=300)\n",
    "plt.show()\n",
    "\n"
   ],
   "metadata": {
    "collapsed": false
   }
  },
  {
   "cell_type": "code",
   "execution_count": null,
   "outputs": [],
   "source": [],
   "metadata": {
    "collapsed": false
   }
  },
  {
   "cell_type": "code",
   "execution_count": null,
   "outputs": [],
   "source": [],
   "metadata": {
    "collapsed": false
   }
  }
 ],
 "metadata": {
  "kernelspec": {
   "display_name": "Python 3",
   "language": "python",
   "name": "python3"
  },
  "language_info": {
   "codemirror_mode": {
    "name": "ipython",
    "version": 2
   },
   "file_extension": ".py",
   "mimetype": "text/x-python",
   "name": "python",
   "nbconvert_exporter": "python",
   "pygments_lexer": "ipython2",
   "version": "2.7.6"
  }
 },
 "nbformat": 4,
 "nbformat_minor": 0
}
