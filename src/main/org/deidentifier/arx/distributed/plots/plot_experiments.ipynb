{
 "cells": [
  {
   "cell_type": "code",
   "execution_count": null,
   "outputs": [],
   "source": [
    "import pandas as pd\n",
    "import matplotlib.pyplot as plt\n",
    "import numpy as np\n",
    "import matplotlib.colors as mcolors\n",
    "import seaborn as sns\n",
    "import os\n"
   ],
   "metadata": {
    "collapsed": false
   }
  },
  {
   "cell_type": "code",
   "execution_count": null,
   "outputs": [],
   "source": [
    "\n",
    "# All groups of plots I want to plot:\n",
    "configs_avg_risk = ['0.01-average-risk','0.05-average-risk']\n",
    "configs_equal_closeness = ['0.2-equal-closeness','0.2-equal-closeness (global distribution)','0.5-equal-closeness','0.5-equal-closeness (global distribution)']\n",
    "configs_disclosure_privacy = ['1-disclosure-privacy','2-disclosure-privacy']\n",
    "configs_diversity = ['distinct-3-diversity','distinct-5-diversity','entropy-3-diversity','entropy-5-diversity']\n",
    "configs_enhanced_likeness = ['1-enhanced-likeness','1-enhanced-likeness (global distribution)','2-enhanced-likeness','2-enhanced-likeness (global distribution)']\n",
    "configs_k_anonymity = ['5-anonymity', '11-anonymity']\n",
    "configs_dp = ['(e10-6, 1.0)-differential privacy','(e10-6, 2.0)-differential privacy','(e10-6, 3.0)-differential privacy','(e10-6, 4.0)-differential privacy','(e10-6, 5.0)-differential privacy']"
   ],
   "metadata": {
    "collapsed": false
   }
  },
  {
   "cell_type": "code",
   "execution_count": null,
   "outputs": [],
   "source": [
    "def is_rightmost(subplot_code):\n",
    "    # Extract the number of columns from the subplot code\n",
    "    num_cols = (subplot_code // 10) % 10\n",
    "\n",
    "    # Extract the subplot index\n",
    "    index = subplot_code % 100\n",
    "\n",
    "    return index % num_cols == 0\n",
    "\n",
    "def is_leftmost(subplot_code):\n",
    "    # Extract the number of columns from the subplot code\n",
    "    num_cols = (subplot_code // 10) % 10\n",
    "\n",
    "    # Extract the subplot index\n",
    "    index = subplot_code % 100\n",
    "\n",
    "    return index % num_cols == 1"
   ],
   "metadata": {
    "collapsed": false
   }
  },
  {
   "cell_type": "code",
   "execution_count": null,
   "outputs": [],
   "source": [
    "color_map = ['tab:blue', 'tab:green', 'tab:pink', 'tab:cyan']\n",
    "\n",
    "def is_leftmost(ax, axes):\n",
    "    \"\"\"Check if ax is on the far left of the grid of subplots.\"\"\"\n",
    "    # If the axes is 1D (either only one row or one column)\n",
    "    if len(axes.shape) == 1:\n",
    "        return ax == axes[0]\n",
    "    # If the axes is 2D (multiple rows and columns)\n",
    "    return np.any(axes[:, 0] == ax)\n",
    "\n",
    "def is_rightmost(ax, axes):\n",
    "    \"\"\"Check if ax is on the far right of the grid of subplots.\"\"\"\n",
    "    # If the axes is 1D (either only one row or one column)\n",
    "    if len(axes.shape) == 1:\n",
    "        return ax == axes[-1]\n",
    "    # If the axes is 2D (multiple rows and columns)\n",
    "    return np.any(axes[:, -1] == ax)\n",
    "\n",
    "#TODO: Schriftgröße bei allen gleich! Axen vereinheitlichen! Farbschema für Farbenblinde! rote Memory Linie zu dominant, evtl. blasseres rot wählen! Legende mit Memory, Granularity weg! Beschriftung unten fehlt! Legende von nebenliegenden Grafiken könnten sich Wertebereich teilen 0-175 oder 0-1400 für memory\n",
    "def plot_results(n, m, fig_size_x, fig_size_y, configs, filename, local):\n",
    "    plt.rcParams.update({    'font.size': 15,\n",
    "                             'axes.titlesize': 15  # Ensure the title size matches other text\n",
    "                             })\n",
    "    fig, axes = plt.subplots(n, m, figsize=(fig_size_x, fig_size_y))\n",
    "    max_memory = 0\n",
    "    time_max = 0;\n",
    "    for config in configs:\n",
    "        memory = df_mem.loc[df_mem.Config == config]\n",
    "        memory = memory.loc[df_mem.Local == local][\"Memory\"]/1000000.0\n",
    "        time = df.loc[df.Config == config]\n",
    "        time = time.loc[df.Local == local][\"Time\"]/1000.0\n",
    "        timePostproces = df.loc[df.Config == config]\n",
    "        timePostproces = timePostproces.loc[df.Local == local][\"TimePostprocess\"]/1000.0\n",
    "        timeQuality = df.loc[df.Config == config]\n",
    "        timeQuality = timeQuality.loc[df.Local == local][\"TimeQuality\"]/1000.0\n",
    "        time_curr = time.max() + timePostproces.max() + timeQuality.max()\n",
    "        if time_curr > time_max:\n",
    "            time_max = time_curr\n",
    "        if memory.max() > max_memory:\n",
    "            max_memory = memory.max()\n",
    "    i = 0\n",
    "    for ax1 in axes.ravel():\n",
    "        config = configs[i]\n",
    "        threads = df.loc[df.Config == config]\n",
    "        threads = threads.loc[df.Local == local][\"Threads\"]\n",
    "        memory = df_mem.loc[df_mem.Config == config]\n",
    "        memory = memory.loc[df_mem.Local == local][\"Memory\"]/1000000.0\n",
    "        timePrepare = df.loc[df.Config == config]\n",
    "        timePrepare = timePrepare.loc[df.Local == local][\"TimePrepare\"]/1000.0\n",
    "        timeAnonymize = df.loc[df.Config == config]\n",
    "        timeAnonymize = timeAnonymize.loc[df.Local == local][\"TimeAnonymize\"]/1000.0\n",
    "        timeGlobalTransform = df.loc[df.Config == config]\n",
    "        timeGlobalTransform = timeGlobalTransform.loc[df.Local == local][\"TimeGlobalTransform\"]/1000.0\n",
    "        timePartitionByClass = df.loc[df.Config == config]\n",
    "        timePartitionByClass = timePartitionByClass.loc[df.Local == local][\"TimePartitionByClass\"]/1000.0\n",
    "        timeSuppress = df.loc[df.Config == config]\n",
    "        timeSuppress = timeSuppress.loc[df.Local == local][\"TimeSuppress\"]/1000.0\n",
    "        timePostproces = df.loc[df.Config == config]\n",
    "        timePostproces = timePostproces.loc[df.Local == local][\"TimePostprocess\"]/1000.0\n",
    "        timeQuality = df.loc[df.Config == config]\n",
    "        timeQuality = timeQuality.loc[df.Local == local][\"TimeQuality\"]/1000.0\n",
    "        granularity = df.loc[df.Config == config]\n",
    "        granularity = granularity.loc[df.Local == local][\"Granularity\"]\n",
    "        timeAll = timePrepare + timeAnonymize + timeGlobalTransform + timePartitionByClass + timeSuppress + timeQuality + timePostproces\n",
    "        print(timeAll)\n",
    "        optimal_time = timeAll.iloc[0]\n",
    "        time_saved_percent = ((optimal_time - timeAll) / optimal_time) * 100\n",
    "        optimal_utility = granularity.iloc[0]\n",
    "        percent_difference_utility = ((optimal_utility - granularity) / optimal_utility) * 100\n",
    "        optimal_memory = memory.iloc[0]\n",
    "        percent_difference_memory = (memory / optimal_memory) * 100\n",
    "        df_combined = pd.DataFrame({\n",
    "            'Threads': threads,\n",
    "            'Time': timeAll,\n",
    "            'Percent Time Saved': time_saved_percent,\n",
    "            'Granularity': granularity,\n",
    "            'Percent Difference utility:': percent_difference_utility,\n",
    "            'Memory': memory,\n",
    "            'Percent Difference Memory': percent_difference_memory\n",
    "        })\n",
    "        df_combined.to_csv(filename[:-4]+config+\".csv\", index=False, sep=';')\n",
    "        print(df_combined)\n",
    "        # Find the index of the max percent difference\n",
    "        max_diff_index = percent_difference_utility.idxmax()\n",
    "        # Extract corresponding values\n",
    "        max_percent_diff_value = percent_difference_utility[max_diff_index]\n",
    "        corresponding_granularity = granularity[max_diff_index]\n",
    "        corresponding_time = timeAll[max_diff_index]\n",
    "        corresponding_time_saved_percent = time_saved_percent[max_diff_index]\n",
    "        corresponding_threads = threads[max_diff_index]\n",
    "        print(f\"Maximum Percent Difference: {max_percent_diff_value}%\")\n",
    "        print(f\"Corresponding Utility: {corresponding_granularity}\")\n",
    "        print(f\"Corresponding Time: {corresponding_time}\")\n",
    "        print(f\"Corresponding Time saved percent: {corresponding_time_saved_percent}\")\n",
    "        print(f\"Corresponding Threads: {corresponding_threads}\")\n",
    "        ax1.set_facecolor('w')\n",
    "        ax2 = ax1.twinx()\n",
    "        ax3 = ax1.twinx()\n",
    "        ax2.set_ylim(0, 100)\n",
    "        ax1.set_ylim(0, time_max)\n",
    "        ax1.stackplot(threads, timePrepare + timeAnonymize, timeGlobalTransform, timePartitionByClass + timeSuppress, timeQuality + timePostproces, labels=[\"(1) Partitioning + Anonymization\", \"(2) Harmonization\", \"(3) Compliance checking\", \"(4) Finalization\",], colors = color_map, edgecolor = 'black', linewidths = 0)\n",
    "        ax1.margins(x=0) #remove space between graph and y-axis\n",
    "        ax1.set_xticks([1, 10, 20, 30, 40, 50, 60])\n",
    "        ax1.set_ylabel(\"Time [s]\")\n",
    "        ax1.set_xlabel(\"Threads\")\n",
    "        ax1.grid(None)\n",
    "        ax2.grid(None)\n",
    "        ax3.grid(None)\n",
    "        ax2.plot(threads, granularity*100.0, label=\"Utility [%]\", color=\"k\", marker=\".\", markersize=0.3)\n",
    "        ax3.plot(threads, memory, label=\"Memory [MB]\", color=\"coral\", marker=\".\", markersize=0.3)\n",
    "        ax2.set_ylabel(\"Utility [%]\")\n",
    "        ax3.spines['right'].set_position(('axes', 1.25))\n",
    "        ax3.set_ylabel(\"Memory [MB]\")\n",
    "        print(memory.max())\n",
    "        print(granularity.max())\n",
    "        ax3.set_ylim(0, max_memory * 1.1)\n",
    "        ax3.spines['right'].set_color('coral')\n",
    "        ax3.tick_params(axis='y', colors='coral')\n",
    "        ax3.yaxis.label.set_color('coral')\n",
    "        if not is_rightmost(ax1, axes): # checks not rightmost\n",
    "            ax2.set_ylabel(None)\n",
    "            ax2.yaxis.set_ticks([])\n",
    "            #ax2.spines[['right']].set_visible(False)\n",
    "            ax3.set_ylabel(None)\n",
    "            ax3.yaxis.set_ticks([])\n",
    "            ax3.spines[['right']].set_visible(False)\n",
    "        if not is_leftmost(ax1, axes): # checks not leftmost\n",
    "            ax1.set_ylabel(None)\n",
    "            ax1.yaxis.set_ticks([])\n",
    "            ax1.spines[['right']].set_visible(False)\n",
    "        handles, labels = ax1.get_legend_handles_labels()\n",
    "        handles2, labels2 = ax2.get_legend_handles_labels()\n",
    "        handles3, labels3 = ax3.get_legend_handles_labels()\n",
    "        config_name = config\n",
    "        if config_name.endswith(\"(global distribution)\"):\n",
    "            config_name = config_name[:-len(\"(global distribution)\")].strip()\n",
    "        if local:\n",
    "            ax1.set_title(config_name) # + \" (local)\")\n",
    "        else:\n",
    "            ax1.set_title(config_name)\n",
    "        ax3.spines['bottom'].set_color('black')\n",
    "        ax3.spines['top'].set_color('black')\n",
    "        ax2.spines['right'].set_color('black')\n",
    "        ax3.spines['left'].set_color('black')\n",
    "        i = i + 1\n",
    "        fig.legend(handles, labels, loc='upper center', bbox_to_anchor=(0.5, 0.01), fancybox=False, shadow=False, ncol=2, facecolor='white', edgecolor='black')\n",
    "        #fig.legend(handles2+handles3, labels2+labels3, loc='upper center', bbox_to_anchor=(0.5, -0.01), fancybox=False, shadow=False, ncol=2, facecolor='white', edgecolor='black')\n",
    "    fig.tight_layout()\n",
    "    if os.path.isfile(filename):\n",
    "        os.remove(filename)   # Opt.: os.system(\"rm \"+strFile)\n",
    "    fig.savefig(filename, format='png', bbox_inches='tight', dpi=300)\n",
    "    #plt.tight_layout()\n",
    "    #plt.savefig(filename, format='png')\n",
    "    plt.show()\n"
   ],
   "metadata": {
    "collapsed": false
   }
  },
  {
   "cell_type": "code",
   "execution_count": null,
   "outputs": [],
   "source": [
    "# ADULT\n",
    "import pandas as pd\n",
    "df = pd.read_csv('C:/Users/halilovm/Desktop/ARX_DISTRIBUTED_RESULTS/results/result_02_08.csv', sep=\";\")\n",
    "df_mem = pd.read_csv('C:/Users/halilovm/Desktop/ARX_DISTRIBUTED_RESULTS/results/result_memory_02_08.csv', sep=\";\")\n",
    "#df_mem = pd.read_csv('C:/Users/halilovm/Desktop/arx-me/arx/jars/result_memory.csv', sep=\";\")"
   ],
   "metadata": {
    "collapsed": false
   }
  },
  {
   "cell_type": "code",
   "execution_count": null,
   "outputs": [],
   "source": [
    "fig_x = 12\n",
    "fig_y = 4\n",
    "plot_results(1, 3, fig_x, fig_y, ['5-anonymity','0.2-equal-closeness (global distribution)', '0.05-average-risk'], \"images/adult_selection_global.png\", False)"
   ],
   "metadata": {
    "collapsed": false
   }
  },
  {
   "cell_type": "code",
   "execution_count": null,
   "outputs": [],
   "source": [
    "fig_x = 12\n",
    "fig_y = 4\n",
    "plot_results(1, 3, fig_x, fig_y, ['5-anonymity','0.2-equal-closeness (global distribution)', '0.05-average-risk'], \"images/adult_selection_local.png\", True)"
   ],
   "metadata": {
    "collapsed": false
   }
  },
  {
   "cell_type": "code",
   "execution_count": null,
   "outputs": [],
   "source": [
    "configs_all = ['5-anonymity', '11-anonymity',\n",
    "               '0.2-equal-closeness (global distribution)',\n",
    "               '0.5-equal-closeness (global distribution)', '1-disclosure-privacy', '2-disclosure-privacy',\n",
    "               'distinct-3-diversity', 'distinct-5-diversity', 'entropy-3-diversity', '0.05-average-risk',\n",
    "               '1-enhanced-likeness (global distribution)',\n",
    "               '2-enhanced-likeness (global distribution)']\n",
    "fig_x = 16\n",
    "fig_y = 16\n",
    "plot_results(4, 3, fig_x, fig_y, configs_all, \"images/all_adult_global.png\", False)"
   ],
   "metadata": {
    "collapsed": false
   }
  },
  {
   "cell_type": "code",
   "execution_count": null,
   "outputs": [],
   "source": [
    "configs_all = ['5-anonymity', '11-anonymity',\n",
    "               '0.2-equal-closeness (global distribution)',\n",
    "               '0.5-equal-closeness (global distribution)', '1-disclosure-privacy', '2-disclosure-privacy',\n",
    "               'distinct-3-diversity', 'distinct-5-diversity', 'entropy-3-diversity', '0.05-average-risk',\n",
    "               '1-enhanced-likeness (global distribution)',\n",
    "               '2-enhanced-likeness (global distribution)']\n",
    "fig_x = 16\n",
    "fig_y = 16\n",
    "plot_results(4, 3, fig_x, fig_y, configs_all, \"images/all_adult_local.png\", True)"
   ],
   "metadata": {
    "collapsed": false
   }
  },
  {
   "cell_type": "code",
   "execution_count": null,
   "outputs": [],
   "source": [
    "#IHIS\n",
    "import pandas as pd\n",
    "import matplotlib.pyplot as plt\n",
    "df = pd.read_csv('C:/Users/halilovm/Desktop/ARX_DISTRIBUTED_RESULTS/results/result_07_08.csv', sep=\";\")\n",
    "df_mem = pd.read_csv('C:/Users/halilovm/Desktop/ARX_DISTRIBUTED_RESULTS/results/result_memory_07_08.csv', sep=\";\")"
   ],
   "metadata": {
    "collapsed": false
   }
  },
  {
   "cell_type": "code",
   "execution_count": null,
   "outputs": [],
   "source": [
    "fig_x = 12\n",
    "fig_y = 4\n",
    "plot_results(1,3, fig_x, fig_y, ['5-anonymity','0.2-equal-closeness (global distribution)', '0.05-average-risk'], \"images/ihis_selection_global.png\", False)"
   ],
   "metadata": {
    "collapsed": false
   }
  },
  {
   "cell_type": "code",
   "execution_count": null,
   "outputs": [],
   "source": [
    "fig_x = 12\n",
    "fig_y = 4\n",
    "plot_results(1,3, fig_x, fig_y, ['5-anonymity','0.2-equal-closeness (global distribution)', '0.05-average-risk'], \"images/ihis_selection_local.png\", True)"
   ],
   "metadata": {
    "collapsed": false
   }
  },
  {
   "cell_type": "code",
   "execution_count": null,
   "outputs": [],
   "source": [
    "configs_all = ['5-anonymity', '11-anonymity',\n",
    "               '0.2-equal-closeness (global distribution)',\n",
    "               '0.5-equal-closeness (global distribution)', '1-disclosure-privacy', '2-disclosure-privacy',\n",
    "               'distinct-3-diversity', 'distinct-5-diversity', 'entropy-3-diversity', '0.05-average-risk',\n",
    "               '1-enhanced-likeness (global distribution)',\n",
    "               '2-enhanced-likeness (global distribution)']\n",
    "\n",
    "fig_x = 16\n",
    "fig_y = 16\n",
    "plot_results(4, 3, fig_x, fig_y, configs_all, \"images/all_ihis_global.png\", False)"
   ],
   "metadata": {
    "collapsed": false
   }
  },
  {
   "cell_type": "code",
   "execution_count": null,
   "outputs": [],
   "source": [
    "configs_all = ['5-anonymity', '11-anonymity',\n",
    "               '0.2-equal-closeness (global distribution)',\n",
    "               '0.5-equal-closeness (global distribution)', '1-disclosure-privacy', '2-disclosure-privacy',\n",
    "               'distinct-3-diversity', 'distinct-5-diversity', 'entropy-3-diversity', '0.05-average-risk',\n",
    "               '1-enhanced-likeness (global distribution)',\n",
    "               '2-enhanced-likeness (global distribution)']\n",
    "\n",
    "fig_x = 16\n",
    "fig_y = 16\n",
    "plot_results(4, 3, fig_x, fig_y, configs_all, \"images/all_ihis_local.png\", True)"
   ],
   "metadata": {
    "collapsed": false
   }
  }
 ],
 "metadata": {
  "kernelspec": {
   "display_name": "Python 3",
   "language": "python",
   "name": "python3"
  },
  "language_info": {
   "codemirror_mode": {
    "name": "ipython",
    "version": 2
   },
   "file_extension": ".py",
   "mimetype": "text/x-python",
   "name": "python",
   "nbconvert_exporter": "python",
   "pygments_lexer": "ipython2",
   "version": "2.7.6"
  }
 },
 "nbformat": 4,
 "nbformat_minor": 0
}
